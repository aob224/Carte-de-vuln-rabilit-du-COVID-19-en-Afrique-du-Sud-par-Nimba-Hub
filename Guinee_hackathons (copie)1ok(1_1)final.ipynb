{
 "cells": [
  {
   "cell_type": "markdown",
   "metadata": {},
   "source": [
    "## Carte de vulnérabilité du COVID-19 en Afrique du Sud par Nimba Hub "
   ]
  },
  {
   "cell_type": "code",
   "execution_count": 1,
   "metadata": {},
   "outputs": [],
   "source": [
    "import pandas as pd\n",
    "import numpy as np\n",
    "import matplotlib.pyplot as plt\n",
    "from sklearn.metrics import mean_squared_error\n",
    "import xgboost as xgb\n",
    "import seaborn as sns\n",
    "from sklearn.cluster import KMeans"
   ]
  },
  {
   "cell_type": "code",
   "execution_count": 2,
   "metadata": {},
   "outputs": [],
   "source": [
    "from catboost import CatBoostRegressor\n",
    "from sklearn.model_selection import GridSearchCV, RandomizedSearchCV\n",
    "from sklearn.pipeline import make_pipeline\n",
    "from sklearn.pipeline import Pipeline\n",
    "from sklearn.preprocessing import StandardScaler, MinMaxScaler"
   ]
  },
  {
   "cell_type": "code",
   "execution_count": 3,
   "metadata": {},
   "outputs": [],
   "source": [
    "## importation des données\n",
    "train = pd.read_csv('Train_maskedv2.csv')\n",
    "test = pd.read_csv('Test_maskedv2.csv')\n",
    "samplesubmissionv2 = pd.read_csv('samplesubmissionv2.csv')\n",
    "variable_descriptions = pd.read_csv('variable_descriptions_v2.csv')"
   ]
  },
  {
   "cell_type": "code",
   "execution_count": 4,
   "metadata": {},
   "outputs": [
    {
     "data": {
      "text/plain": [
       "((3174, 50), (1102, 49))"
      ]
     },
     "execution_count": 4,
     "metadata": {},
     "output_type": "execute_result"
    }
   ],
   "source": [
    "train.shape, test.shape"
   ]
  },
  {
   "cell_type": "code",
   "execution_count": 5,
   "metadata": {},
   "outputs": [],
   "source": [
    "#train.head(5)"
   ]
  },
  {
   "cell_type": "code",
   "execution_count": 6,
   "metadata": {},
   "outputs": [
    {
     "data": {
      "text/html": [
       "<div>\n",
       "<style scoped>\n",
       "    .dataframe tbody tr th:only-of-type {\n",
       "        vertical-align: middle;\n",
       "    }\n",
       "\n",
       "    .dataframe tbody tr th {\n",
       "        vertical-align: top;\n",
       "    }\n",
       "\n",
       "    .dataframe thead th {\n",
       "        text-align: right;\n",
       "    }\n",
       "</style>\n",
       "<table border=\"1\" class=\"dataframe\">\n",
       "  <thead>\n",
       "    <tr style=\"text-align: right;\">\n",
       "      <th></th>\n",
       "      <th>Column</th>\n",
       "      <th>Description</th>\n",
       "    </tr>\n",
       "  </thead>\n",
       "  <tbody>\n",
       "    <tr>\n",
       "      <th>0</th>\n",
       "      <td>total_households</td>\n",
       "      <td>Totoal number of households in ward</td>\n",
       "    </tr>\n",
       "    <tr>\n",
       "      <th>1</th>\n",
       "      <td>total_individuals</td>\n",
       "      <td>Total number of individuals in ward</td>\n",
       "    </tr>\n",
       "    <tr>\n",
       "      <th>2</th>\n",
       "      <td>target_pct_vunerable</td>\n",
       "      <td>Percentage of large households who have to lea...</td>\n",
       "    </tr>\n",
       "    <tr>\n",
       "      <th>3</th>\n",
       "      <td>dw_00</td>\n",
       "      <td>Percentage of dwellings of type: House or bric...</td>\n",
       "    </tr>\n",
       "    <tr>\n",
       "      <th>4</th>\n",
       "      <td>dw_01</td>\n",
       "      <td>Percentage of dwellings of type: Traditional d...</td>\n",
       "    </tr>\n",
       "    <tr>\n",
       "      <th>5</th>\n",
       "      <td>dw_02</td>\n",
       "      <td>Percentage of dwellings of type: Flat or apart...</td>\n",
       "    </tr>\n",
       "    <tr>\n",
       "      <th>6</th>\n",
       "      <td>dw_03</td>\n",
       "      <td>Percentage of dwellings of type: Cluster house...</td>\n",
       "    </tr>\n",
       "    <tr>\n",
       "      <th>7</th>\n",
       "      <td>dw_04</td>\n",
       "      <td>Percentage of dwellings of type: Townhouse (se...</td>\n",
       "    </tr>\n",
       "    <tr>\n",
       "      <th>8</th>\n",
       "      <td>dw_05</td>\n",
       "      <td>Percentage of dwellings of type: Semi-detached...</td>\n",
       "    </tr>\n",
       "    <tr>\n",
       "      <th>9</th>\n",
       "      <td>dw_06</td>\n",
       "      <td>Percentage of dwellings of type: House/flat/ro...</td>\n",
       "    </tr>\n",
       "    <tr>\n",
       "      <th>10</th>\n",
       "      <td>dw_07</td>\n",
       "      <td>Percentage of dwellings of type: Informal dwel...</td>\n",
       "    </tr>\n",
       "    <tr>\n",
       "      <th>11</th>\n",
       "      <td>dw_08</td>\n",
       "      <td>Percentage of dwellings of type: Informal dwel...</td>\n",
       "    </tr>\n",
       "    <tr>\n",
       "      <th>12</th>\n",
       "      <td>dw_09</td>\n",
       "      <td>Percentage of dwellings of type: Room/flatlet ...</td>\n",
       "    </tr>\n",
       "    <tr>\n",
       "      <th>13</th>\n",
       "      <td>dw_10</td>\n",
       "      <td>Percentage of dwellings of type: Caravan/tent</td>\n",
       "    </tr>\n",
       "    <tr>\n",
       "      <th>14</th>\n",
       "      <td>dw_11</td>\n",
       "      <td>Percentage of dwellings of type: Other</td>\n",
       "    </tr>\n",
       "    <tr>\n",
       "      <th>15</th>\n",
       "      <td>dw_12</td>\n",
       "      <td>Percentage of dwellings of type: Unspecified</td>\n",
       "    </tr>\n",
       "    <tr>\n",
       "      <th>16</th>\n",
       "      <td>dw_13</td>\n",
       "      <td>Percentage of dwellings of type: Not applicable</td>\n",
       "    </tr>\n",
       "    <tr>\n",
       "      <th>17</th>\n",
       "      <td>psa_00</td>\n",
       "      <td>Percentage listing present school attendance a...</td>\n",
       "    </tr>\n",
       "    <tr>\n",
       "      <th>18</th>\n",
       "      <td>psa_01</td>\n",
       "      <td>Percentage listing present school attendance a...</td>\n",
       "    </tr>\n",
       "    <tr>\n",
       "      <th>19</th>\n",
       "      <td>psa_02</td>\n",
       "      <td>Percentage listing present school attendance a...</td>\n",
       "    </tr>\n",
       "    <tr>\n",
       "      <th>20</th>\n",
       "      <td>psa_03</td>\n",
       "      <td>Percentage listing present school attendance a...</td>\n",
       "    </tr>\n",
       "    <tr>\n",
       "      <th>21</th>\n",
       "      <td>psa_04</td>\n",
       "      <td>Percentage listing present school attendance a...</td>\n",
       "    </tr>\n",
       "    <tr>\n",
       "      <th>22</th>\n",
       "      <td>stv_00</td>\n",
       "      <td>Percentage of households with Satellite TV:  Yes</td>\n",
       "    </tr>\n",
       "    <tr>\n",
       "      <th>23</th>\n",
       "      <td>stv_01</td>\n",
       "      <td>Percentage of households with Satellite TV:  No</td>\n",
       "    </tr>\n",
       "    <tr>\n",
       "      <th>24</th>\n",
       "      <td>car_00</td>\n",
       "      <td>Percentage of households with a car:  Yes</td>\n",
       "    </tr>\n",
       "    <tr>\n",
       "      <th>25</th>\n",
       "      <td>car_01</td>\n",
       "      <td>Percentage of households with a car:  No</td>\n",
       "    </tr>\n",
       "    <tr>\n",
       "      <th>26</th>\n",
       "      <td>lln_00</td>\n",
       "      <td>Percentage listing landline ownership as:  Yes</td>\n",
       "    </tr>\n",
       "    <tr>\n",
       "      <th>27</th>\n",
       "      <td>lln_01</td>\n",
       "      <td>Percentage listing landline ownership as:  No</td>\n",
       "    </tr>\n",
       "    <tr>\n",
       "      <th>28</th>\n",
       "      <td>lan_00</td>\n",
       "      <td>Percentage listing language as:  Afrikaans</td>\n",
       "    </tr>\n",
       "    <tr>\n",
       "      <th>29</th>\n",
       "      <td>lan_01</td>\n",
       "      <td>Percentage listing language as:  English</td>\n",
       "    </tr>\n",
       "    <tr>\n",
       "      <th>30</th>\n",
       "      <td>lan_02</td>\n",
       "      <td>Percentage listing language as:  IsiNdebele</td>\n",
       "    </tr>\n",
       "    <tr>\n",
       "      <th>31</th>\n",
       "      <td>lan_03</td>\n",
       "      <td>Percentage listing language as:  IsiXhosa</td>\n",
       "    </tr>\n",
       "    <tr>\n",
       "      <th>32</th>\n",
       "      <td>lan_04</td>\n",
       "      <td>Percentage listing language as:  IsiZulu</td>\n",
       "    </tr>\n",
       "    <tr>\n",
       "      <th>33</th>\n",
       "      <td>lan_05</td>\n",
       "      <td>Percentage listing language as:  Sepedi</td>\n",
       "    </tr>\n",
       "    <tr>\n",
       "      <th>34</th>\n",
       "      <td>lan_06</td>\n",
       "      <td>Percentage listing language as:  Sesotho</td>\n",
       "    </tr>\n",
       "    <tr>\n",
       "      <th>35</th>\n",
       "      <td>lan_07</td>\n",
       "      <td>Percentage listing language as:  Setswana</td>\n",
       "    </tr>\n",
       "    <tr>\n",
       "      <th>36</th>\n",
       "      <td>lan_08</td>\n",
       "      <td>Percentage listing language as:  Sign language</td>\n",
       "    </tr>\n",
       "    <tr>\n",
       "      <th>37</th>\n",
       "      <td>lan_09</td>\n",
       "      <td>Percentage listing language as:  SiSwati</td>\n",
       "    </tr>\n",
       "    <tr>\n",
       "      <th>38</th>\n",
       "      <td>lan_10</td>\n",
       "      <td>Percentage listing language as:  Tshivenda</td>\n",
       "    </tr>\n",
       "    <tr>\n",
       "      <th>39</th>\n",
       "      <td>lan_11</td>\n",
       "      <td>Percentage listing language as:  Xitsonga</td>\n",
       "    </tr>\n",
       "    <tr>\n",
       "      <th>40</th>\n",
       "      <td>lan_12</td>\n",
       "      <td>Percentage listing language as:  Other</td>\n",
       "    </tr>\n",
       "    <tr>\n",
       "      <th>41</th>\n",
       "      <td>lan_13</td>\n",
       "      <td>Percentage listing language as:  Unspecified</td>\n",
       "    </tr>\n",
       "    <tr>\n",
       "      <th>42</th>\n",
       "      <td>lan_14</td>\n",
       "      <td>Percentage listing language as:  Not applicable</td>\n",
       "    </tr>\n",
       "    <tr>\n",
       "      <th>43</th>\n",
       "      <td>pg_00</td>\n",
       "      <td>Percentage in population group:  Black African</td>\n",
       "    </tr>\n",
       "    <tr>\n",
       "      <th>44</th>\n",
       "      <td>pg_01</td>\n",
       "      <td>Percentage in population group:  Coloured</td>\n",
       "    </tr>\n",
       "    <tr>\n",
       "      <th>45</th>\n",
       "      <td>pg_02</td>\n",
       "      <td>Percentage in population group:  Indian or Asian</td>\n",
       "    </tr>\n",
       "    <tr>\n",
       "      <th>46</th>\n",
       "      <td>pg_03</td>\n",
       "      <td>Percentage in population group:  White</td>\n",
       "    </tr>\n",
       "    <tr>\n",
       "      <th>47</th>\n",
       "      <td>pg_04</td>\n",
       "      <td>Percentage in population group:  Other</td>\n",
       "    </tr>\n",
       "    <tr>\n",
       "      <th>48</th>\n",
       "      <td>lgt_00</td>\n",
       "      <td>Percentage using electricity for lighting</td>\n",
       "    </tr>\n",
       "  </tbody>\n",
       "</table>\n",
       "</div>"
      ],
      "text/plain": [
       "                  Column                                        Description\n",
       "0       total_households                Totoal number of households in ward\n",
       "1      total_individuals                Total number of individuals in ward\n",
       "2   target_pct_vunerable  Percentage of large households who have to lea...\n",
       "3                  dw_00  Percentage of dwellings of type: House or bric...\n",
       "4                  dw_01  Percentage of dwellings of type: Traditional d...\n",
       "5                  dw_02  Percentage of dwellings of type: Flat or apart...\n",
       "6                  dw_03  Percentage of dwellings of type: Cluster house...\n",
       "7                  dw_04  Percentage of dwellings of type: Townhouse (se...\n",
       "8                  dw_05  Percentage of dwellings of type: Semi-detached...\n",
       "9                  dw_06  Percentage of dwellings of type: House/flat/ro...\n",
       "10                 dw_07  Percentage of dwellings of type: Informal dwel...\n",
       "11                 dw_08  Percentage of dwellings of type: Informal dwel...\n",
       "12                 dw_09  Percentage of dwellings of type: Room/flatlet ...\n",
       "13                 dw_10      Percentage of dwellings of type: Caravan/tent\n",
       "14                 dw_11             Percentage of dwellings of type: Other\n",
       "15                 dw_12       Percentage of dwellings of type: Unspecified\n",
       "16                 dw_13    Percentage of dwellings of type: Not applicable\n",
       "17                psa_00  Percentage listing present school attendance a...\n",
       "18                psa_01  Percentage listing present school attendance a...\n",
       "19                psa_02  Percentage listing present school attendance a...\n",
       "20                psa_03  Percentage listing present school attendance a...\n",
       "21                psa_04  Percentage listing present school attendance a...\n",
       "22                stv_00   Percentage of households with Satellite TV:  Yes\n",
       "23                stv_01    Percentage of households with Satellite TV:  No\n",
       "24                car_00          Percentage of households with a car:  Yes\n",
       "25                car_01           Percentage of households with a car:  No\n",
       "26                lln_00     Percentage listing landline ownership as:  Yes\n",
       "27                lln_01      Percentage listing landline ownership as:  No\n",
       "28                lan_00         Percentage listing language as:  Afrikaans\n",
       "29                lan_01           Percentage listing language as:  English\n",
       "30                lan_02        Percentage listing language as:  IsiNdebele\n",
       "31                lan_03          Percentage listing language as:  IsiXhosa\n",
       "32                lan_04           Percentage listing language as:  IsiZulu\n",
       "33                lan_05            Percentage listing language as:  Sepedi\n",
       "34                lan_06           Percentage listing language as:  Sesotho\n",
       "35                lan_07          Percentage listing language as:  Setswana\n",
       "36                lan_08     Percentage listing language as:  Sign language\n",
       "37                lan_09           Percentage listing language as:  SiSwati\n",
       "38                lan_10         Percentage listing language as:  Tshivenda\n",
       "39                lan_11          Percentage listing language as:  Xitsonga\n",
       "40                lan_12             Percentage listing language as:  Other\n",
       "41                lan_13       Percentage listing language as:  Unspecified\n",
       "42                lan_14    Percentage listing language as:  Not applicable\n",
       "43                 pg_00     Percentage in population group:  Black African\n",
       "44                 pg_01          Percentage in population group:  Coloured\n",
       "45                 pg_02   Percentage in population group:  Indian or Asian\n",
       "46                 pg_03             Percentage in population group:  White\n",
       "47                 pg_04             Percentage in population group:  Other\n",
       "48                lgt_00          Percentage using electricity for lighting"
      ]
     },
     "execution_count": 6,
     "metadata": {},
     "output_type": "execute_result"
    }
   ],
   "source": [
    "variable_descriptions"
   ]
  },
  {
   "cell_type": "code",
   "execution_count": 7,
   "metadata": {},
   "outputs": [
    {
     "data": {
      "text/plain": [
       "0"
      ]
     },
     "execution_count": 7,
     "metadata": {},
     "output_type": "execute_result"
    }
   ],
   "source": [
    "## les données manquantes\n",
    "train.isna().sum()\n",
    "## les duplications\n",
    "train.duplicated().sum()"
   ]
  },
  {
   "cell_type": "code",
   "execution_count": 8,
   "metadata": {},
   "outputs": [
    {
     "name": "stdout",
     "output_type": "stream",
     "text": [
      "<class 'pandas.core.frame.DataFrame'>\n",
      "RangeIndex: 3174 entries, 0 to 3173\n",
      "Data columns (total 50 columns):\n",
      "ward                    3174 non-null object\n",
      "total_households        3174 non-null float64\n",
      "total_individuals       3174 non-null float64\n",
      "target_pct_vunerable    3174 non-null float64\n",
      "dw_00                   3174 non-null float64\n",
      "dw_01                   3174 non-null float64\n",
      "dw_02                   3174 non-null float64\n",
      "dw_03                   3174 non-null float64\n",
      "dw_04                   3174 non-null float64\n",
      "dw_05                   3174 non-null float64\n",
      "dw_06                   3174 non-null float64\n",
      "dw_07                   3174 non-null float64\n",
      "dw_08                   3174 non-null float64\n",
      "dw_09                   3174 non-null float64\n",
      "dw_10                   3174 non-null float64\n",
      "dw_11                   3174 non-null float64\n",
      "dw_12                   3174 non-null int64\n",
      "dw_13                   3174 non-null int64\n",
      "psa_00                  3174 non-null float64\n",
      "psa_01                  3174 non-null float64\n",
      "psa_02                  3174 non-null float64\n",
      "psa_03                  3174 non-null float64\n",
      "psa_04                  3174 non-null float64\n",
      "stv_00                  3174 non-null float64\n",
      "stv_01                  3174 non-null float64\n",
      "car_00                  3174 non-null float64\n",
      "car_01                  3174 non-null float64\n",
      "lln_00                  3174 non-null float64\n",
      "lln_01                  3174 non-null float64\n",
      "lan_00                  3174 non-null float64\n",
      "lan_01                  3174 non-null float64\n",
      "lan_02                  3174 non-null float64\n",
      "lan_03                  3174 non-null float64\n",
      "lan_04                  3174 non-null float64\n",
      "lan_05                  3174 non-null float64\n",
      "lan_06                  3174 non-null float64\n",
      "lan_07                  3174 non-null float64\n",
      "lan_08                  3174 non-null float64\n",
      "lan_09                  3174 non-null float64\n",
      "lan_10                  3174 non-null float64\n",
      "lan_11                  3174 non-null float64\n",
      "lan_12                  3174 non-null float64\n",
      "lan_13                  3174 non-null int64\n",
      "lan_14                  3174 non-null float64\n",
      "pg_00                   3174 non-null float64\n",
      "pg_01                   3174 non-null float64\n",
      "pg_02                   3174 non-null float64\n",
      "pg_03                   3174 non-null float64\n",
      "pg_04                   3174 non-null float64\n",
      "lgt_00                  3174 non-null float64\n",
      "dtypes: float64(46), int64(3), object(1)\n",
      "memory usage: 1.2+ MB\n"
     ]
    }
   ],
   "source": [
    "train.info()"
   ]
  },
  {
   "cell_type": "markdown",
   "metadata": {},
   "source": [
    "# Feature Engineering"
   ]
  },
  {
   "cell_type": "code",
   "execution_count": 9,
   "metadata": {
    "scrolled": true
   },
   "outputs": [
    {
     "data": {
      "text/plain": [
       "<matplotlib.axes._subplots.AxesSubplot at 0x7f865abfb190>"
      ]
     },
     "execution_count": 9,
     "metadata": {},
     "output_type": "execute_result"
    },
    {
     "data": {
      "image/png": "[encoded data removed]",
      "text/plain": [
       "<Figure size 1296x432 with 1 Axes>"
      ]
     },
     "metadata": {
      "needs_background": "light"
     },
     "output_type": "display_data"
    }
   ],
   "source": [
    "# Corrélation des variables\n",
    "train.corr()['target_pct_vunerable'].sort_values().plot(kind='bar', figsize=(18, 6))"
   ]
  },
  {
   "cell_type": "code",
   "execution_count": 10,
   "metadata": {},
   "outputs": [
    {
     "data": {
      "text/plain": [
       "(1, 1, 1, 2831)"
      ]
     },
     "execution_count": 10,
     "metadata": {},
     "output_type": "execute_result"
    }
   ],
   "source": [
    "train['dw_12'].nunique(), train['dw_13'].nunique(), train['lan_13'].nunique(), train['lan_09'].nunique()"
   ]
  },
  {
   "cell_type": "code",
   "execution_count": 11,
   "metadata": {},
   "outputs": [],
   "source": [
    "# suppression des variables qui sont pas corrolé avec notre variable d'étude\n",
    "train= train.drop(['dw_12', 'dw_13', 'lan_13', 'lan_09'], axis=1)\n",
    "test= test.drop(['dw_12', 'dw_13', 'lan_13', 'lan_09'],axis=1)"
   ]
  },
  {
   "cell_type": "code",
   "execution_count": 12,
   "metadata": {},
   "outputs": [
    {
     "data": {
      "text/plain": [
       "((3174, 46), (1102, 45))"
      ]
     },
     "execution_count": 12,
     "metadata": {},
     "output_type": "execute_result"
    }
   ],
   "source": [
    "train.shape, test.shape"
   ]
  },
  {
   "cell_type": "code",
   "execution_count": 13,
   "metadata": {},
   "outputs": [],
   "source": [
    "# identifiant des colonnes \n",
    "train_ward = train['ward']\n",
    "test_ward = test['ward']\n",
    "\n",
    "#suprimer l'identifiant\n",
    "train.drop(\"ward\", axis = 1, inplace = True)\n",
    "test.drop(\"ward\", axis = 1, inplace = True)"
   ]
  },
  {
   "cell_type": "markdown",
   "metadata": {},
   "source": [
    "### Pour voir les outlier "
   ]
  },
  {
   "cell_type": "code",
   "execution_count": 14,
   "metadata": {},
   "outputs": [
    {
     "data": {
      "image/png": "[encoded data removed]",
      "text/plain": [
       "<Figure size 576x432 with 1 Axes>"
      ]
     },
     "metadata": {
      "needs_background": "light"
     },
     "output_type": "display_data"
    }
   ],
   "source": [
    "\n",
    "plt.figure(figsize=(8,6))\n",
    "sns.boxplot(data=train['total_households'])\n",
    "plt.title('Price Distribution')\n",
    "plt.show()"
   ]
  },
  {
   "cell_type": "code",
   "execution_count": 15,
   "metadata": {},
   "outputs": [
    {
     "data": {
      "image/png": "[encoded data removed]",
      "text/plain": [
       "<Figure size 576x432 with 1 Axes>"
      ]
     },
     "metadata": {
      "needs_background": "light"
     },
     "output_type": "display_data"
    }
   ],
   "source": [
    "\n",
    "plt.figure(figsize=(8,6))\n",
    "sns.boxplot(data=train['total_individuals'])\n",
    "plt.title('Price Distribution')\n",
    "plt.show()"
   ]
  },
  {
   "cell_type": "code",
   "execution_count": 16,
   "metadata": {
    "scrolled": false
   },
   "outputs": [
    {
     "data": {
      "image/png": "[encoded data removed]",
      "text/plain": [
       "<Figure size 576x432 with 1 Axes>"
      ]
     },
     "metadata": {
      "needs_background": "light"
     },
     "output_type": "display_data"
    }
   ],
   "source": [
    "plt.figure(figsize=(8,6))\n",
    "sns.boxplot(data=train['target_pct_vunerable'])\n",
    "plt.title('Price Distribution')\n",
    "plt.show()"
   ]
  },
  {
   "cell_type": "markdown",
   "metadata": {},
   "source": [
    "# Feature engineering"
   ]
  },
  {
   "cell_type": "code",
   "execution_count": 17,
   "metadata": {},
   "outputs": [],
   "source": [
    "## classification par kmeans\n",
    "train_copy=train.copy()\n",
    "columns=train_copy.drop([\"target_pct_vunerable\"],1).columns\n",
    "train_copy=train_copy[columns]\n",
    "km=KMeans(7,random_state=42)\n",
    "km=km.fit(train_copy[columns])\n",
    "train[\"cluster\"]=km.predict(train[columns])\n",
    "test[\"cluster\"]=km.predict(test[columns])"
   ]
  },
  {
   "cell_type": "code",
   "execution_count": 18,
   "metadata": {},
   "outputs": [],
   "source": [
    "## suprimer les outlier.\n",
    "train = train[train['total_households']<=17500]\n",
    "train = train[train.index!=1094]"
   ]
  },
  {
   "cell_type": "code",
   "execution_count": 19,
   "metadata": {},
   "outputs": [],
   "source": [
    "train['total_householdslessthan5000'] = train['total_households'].apply(lambda x:1 if 2500<x<=5000  else 0)\n",
    "test['total_householdslessthan5000'] = test['total_households'].apply(lambda x:1 if 2500<x<=5000  else 0)"
   ]
  },
  {
   "cell_type": "code",
   "execution_count": 20,
   "metadata": {},
   "outputs": [],
   "source": [
    "train['nmbr_indv_men'] = (train['total_individuals']/train['total_households'])\n",
    "test['nmbr_indv_men'] = (test['total_individuals']/test['total_households'])\n",
    "train['Lux'] = train['car_01']+train['stv_00']+train['psa_01']\n",
    "train['Lux'] = train['car_00'] +train['stv_01']+train['psa_00']\n",
    "test['Lux'] = test['car_01']+test['stv_00']+test['psa_01']\n",
    "test['Lux'] = test['car_00'] +test['stv_01']+test['psa_00']\n",
    "train['No_scool'] = train['psa_01'] + train['psa_02']+ train['psa_03']\n",
    "test['No_scool'] = test['psa_01'] + test['psa_02']+ test['psa_03']\n",
    "train['Informal'] = train['dw_02'] + train['dw_07'] + train['dw_06']\n",
    "test['Informal'] = test['dw_02'] + test['dw_07'] + test['dw_06']\n",
    "train['total_households']/=train['total_households'].max()\n",
    "train['total_individuals']/=train['total_individuals'].max()\n",
    "test['total_households']/=test['total_households'].max()\n",
    "test['total_individuals']/=test['total_individuals'].max()"
   ]
  },
  {
   "cell_type": "code",
   "execution_count": 21,
   "metadata": {},
   "outputs": [],
   "source": [
    "train = train.drop(['psa_00','psa_02','psa_03','psa_04','psa_01','lgt_00','stv_01','car_01','lln_01'], axis=1)\n",
    "test = test.drop(['psa_00','psa_02','psa_03','psa_04','psa_01','lgt_00','stv_01','car_01','lln_01'], axis=1)"
   ]
  },
  {
   "cell_type": "code",
   "execution_count": 22,
   "metadata": {
    "scrolled": false
   },
   "outputs": [],
   "source": [
    "#train.head(5)"
   ]
  },
  {
   "cell_type": "code",
   "execution_count": 23,
   "metadata": {},
   "outputs": [],
   "source": [
    "#test"
   ]
  },
  {
   "cell_type": "code",
   "execution_count": 24,
   "metadata": {},
   "outputs": [
    {
     "data": {
      "text/plain": [
       "54.82847515"
      ]
     },
     "execution_count": 24,
     "metadata": {},
     "output_type": "execute_result"
    }
   ],
   "source": [
    "train['target_pct_vunerable'].max()"
   ]
  },
  {
   "cell_type": "markdown",
   "metadata": {},
   "source": [
    "\n"
   ]
  },
  {
   "cell_type": "markdown",
   "metadata": {},
   "source": [
    "# Model"
   ]
  },
  {
   "cell_type": "code",
   "execution_count": 25,
   "metadata": {},
   "outputs": [],
   "source": [
    "X = train.drop(columns='target_pct_vunerable')\n",
    "y = train['target_pct_vunerable']"
   ]
  },
  {
   "cell_type": "code",
   "execution_count": 26,
   "metadata": {
    "scrolled": true
   },
   "outputs": [
    {
     "data": {
      "text/plain": [
       "((3154, 41), (1102, 41))"
      ]
     },
     "execution_count": 26,
     "metadata": {},
     "output_type": "execute_result"
    }
   ],
   "source": [
    "X.shape, test.shape"
   ]
  },
  {
   "cell_type": "code",
   "execution_count": 27,
   "metadata": {},
   "outputs": [],
   "source": [
    "data_dmatrix = xgb.DMatrix(data=X,label=y)"
   ]
  },
  {
   "cell_type": "code",
   "execution_count": 28,
   "metadata": {},
   "outputs": [],
   "source": [
    "from xgboost import XGBRegressor"
   ]
  },
  {
   "cell_type": "code",
   "execution_count": 29,
   "metadata": {
    "scrolled": true
   },
   "outputs": [
    {
     "name": "stdout",
     "output_type": "stream",
     "text": [
      "Fitting 3 folds for each of 252 candidates, totalling 756 fits\n"
     ]
    },
    {
     "name": "stderr",
     "output_type": "stream",
     "text": [
      "[Parallel(n_jobs=1)]: Using backend SequentialBackend with 1 concurrent workers.\n",
      "[Parallel(n_jobs=1)]: Done 756 out of 756 | elapsed: 63.9min finished\n"
     ]
    },
    {
     "name": "stdout",
     "output_type": "stream",
     "text": [
      "0.7959331524682489\n",
      "{'colsample_bytree': 0.7, 'learning_rate': 0.03, 'max_depth': 7, 'min_child_weight': 4, 'n_estimators': 1000, 'objective': 'reg:squarederror', 'silent': 1, 'subsample': 0.7}\n"
     ]
    }
   ],
   "source": [
    "xgb1 = XGBRegressor()\n",
    "parameters = {#'nthread':[4], ##uncomment if running on gpu\n",
    "              'objective':['reg:squarederror'],\n",
    "              'learning_rate': [.03, 0.05, .07, 0.08, 0.09, 0.1, 0.5 ],\n",
    "              'max_depth': [5, 6, 7, 8, 9, 10],\n",
    "              'min_child_weight': [4],\n",
    "              'silent': [1],\n",
    "              'subsample': [0.7],\n",
    "              'colsample_bytree': [0.7],\n",
    "              'n_estimators': [500, 1000, 200, 300, 400, 700]}\n",
    "\n",
    "xgb_grid = GridSearchCV(xgb1,\n",
    "                        parameters,\n",
    "                        cv = 3,\n",
    "                        #n_jobs = 3, ##uncomment if running on gpu \n",
    "                        verbose=True)\n",
    "\n",
    "xgb_grid.fit(X, y)\n",
    "\n",
    "print(xgb_grid.best_score_)\n",
    "print(xgb_grid.best_params_)"
   ]
  },
  {
   "cell_type": "code",
   "execution_count": 30,
   "metadata": {},
   "outputs": [],
   "source": [
    "y_pred = xgb_grid.predict(test)"
   ]
  },
  {
   "cell_type": "code",
   "execution_count": 31,
   "metadata": {},
   "outputs": [
    {
     "data": {
      "text/plain": [
       "array([10.287239 , 31.745535 ,  6.0356946, ...,  4.419676 ,  1.452024 ,\n",
       "        0.9714205], dtype=float32)"
      ]
     },
     "execution_count": 31,
     "metadata": {},
     "output_type": "execute_result"
    }
   ],
   "source": [
    "y_pred"
   ]
  },
  {
   "cell_type": "code",
   "execution_count": 32,
   "metadata": {},
   "outputs": [
    {
     "data": {
      "text/plain": [
       "array([10.287239 , 31.745535 ,  6.0356946, ...,  4.419676 ,  1.452024 ,\n",
       "        0.9714205], dtype=float32)"
      ]
     },
     "execution_count": 32,
     "metadata": {},
     "output_type": "execute_result"
    }
   ],
   "source": [
    "y_pred"
   ]
  },
  {
   "cell_type": "code",
   "execution_count": 33,
   "metadata": {},
   "outputs": [],
   "source": [
    "# making submissions\n",
    "submission_df = pd.DataFrame({'ward': test_ward, 'target_pct_vunerable ': y_pred}) # Creating a submission file\n",
    "\n"
   ]
  },
  {
   "cell_type": "code",
   "execution_count": 34,
   "metadata": {},
   "outputs": [],
   "source": [
    "submission_df.to_csv('submit-231_a_1.csv', index=False)"
   ]
  },
  {
   "cell_type": "code",
   "execution_count": null,
   "metadata": {},
   "outputs": [],
   "source": []
  }
 ],
 "metadata": {
  "kernelspec": {
   "display_name": "Python 3",
   "language": "python",
   "name": "python3"
  },
  "language_info": {
   "codemirror_mode": {
    "name": "ipython",
    "version": 3
   },
   "file_extension": ".py",
   "mimetype": "text/x-python",
   "name": "python",
   "nbconvert_exporter": "python",
   "pygments_lexer": "ipython3",
   "version": "3.7.4"
  }
 },
 "nbformat": 4,
 "nbformat_minor": 4
}
